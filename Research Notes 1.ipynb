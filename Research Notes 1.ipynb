{
 "cells": [
  {
   "cell_type": "markdown",
   "metadata": {},
   "source": [
    "# Research Notes\n",
    "\n",
    "\n",
    "### Data Engineering searches\n",
    "\n",
    "- https://www.dataquest.io/blog/what-is-a-data-engineer/\n",
    "\n",
    "### items that need to be worked into the data outline\n",
    "\n",
    "- scrape, prepare, or access raw data through public APIs\n",
    "- properly design table schemas\n",
    "- build data pipelines\n",
    "- [Kudu?](https://kudu.apache.org/)\n",
    "\n",
    "And a book in Safari called Designing Data-Intensive Applications\n",
    "\n",
    "### Data Engineering Projects\n",
    "\n",
    "these might be good examples of some DE projects\n",
    "\n",
    "Here is one that is annotated and very good. https://www.springboard.com/blog/data-science-capstone-project-annotated/\n",
    "It has plenty of notes and process pieces that can be used to understand how the project should go.\n",
    "\n",
    "\n",
    "- https://www.springboard.com/blog/data-science-projects/\n",
    "\n",
    "### More Ideas\n",
    "\n",
    "- "
   ]
  }
 ],
 "metadata": {
  "kernelspec": {
   "display_name": "Python 3",
   "language": "python",
   "name": "python3"
  },
  "language_info": {
   "codemirror_mode": {
    "name": "ipython",
    "version": 3
   },
   "file_extension": ".py",
   "mimetype": "text/x-python",
   "name": "python",
   "nbconvert_exporter": "python",
   "pygments_lexer": "ipython3",
   "version": "3.7.3"
  }
 },
 "nbformat": 4,
 "nbformat_minor": 2
}
